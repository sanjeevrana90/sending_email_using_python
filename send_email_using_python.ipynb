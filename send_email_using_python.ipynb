{
 "cells": [
  {
   "cell_type": "code",
   "execution_count": null,
   "id": "87f89f44",
   "metadata": {},
   "outputs": [],
   "source": [
    "# Dummy credentials\n",
    "\n",
    "email = 'xyz@gmail.com'\n",
    "password = 'Password@123'"
   ]
  },
  {
   "cell_type": "code",
   "execution_count": null,
   "id": "849eb394",
   "metadata": {},
   "outputs": [],
   "source": [
    "# Import necessary libraries\n",
    "import smtplib\n",
    "from email.mime.text import MIMEText\n",
    "\n",
    "# Create an SMTP (Simple Mail Transfer Protocol) server to send emails using Gmail's server\n",
    "smtp_server = smtplib.SMTP('smtp.gmail.com: 587')\n",
    "\n",
    "# Initiate a secure connection with the SMTP server\n",
    "smtp_server.starttls()\n",
    "\n",
    "# Login to the SMTP server using the provided email and password\n",
    "smtp_server.login(email, password)\n",
    "\n",
    "# Create a MIMEText object that represents the content of the email\n",
    "message = MIMEText(\"Hey, I'm a bot\")\n",
    "\n",
    "# Set the 'From' email address for the email\n",
    "message['From'] = email\n",
    "\n",
    "# Set the 'To' email address for the email (sending the email to self for testing)\n",
    "message['To'] = email\n",
    "\n",
    "# Set the subject of the email\n",
    "message['Subject'] = 'Automated Email'\n",
    "\n",
    "# Send the email using the SMTP server, with the 'From' and 'To' addresses specified in the MIMEText object\n",
    "smtp_server.sendmail(email, email, message.as_string())\n",
    "\n",
    "# Close the connection to the SMTP server\n",
    "smtp_server.quit()\n",
    "\n",
    "# Print a success message to indicate that the email was sent successfully\n",
    "print('Success')\n"
   ]
  },
  {
   "cell_type": "code",
   "execution_count": null,
   "id": "7cde6e3c",
   "metadata": {},
   "outputs": [],
   "source": []
  }
 ],
 "metadata": {
  "kernelspec": {
   "display_name": "Python 3 (ipykernel)",
   "language": "python",
   "name": "python3"
  },
  "language_info": {
   "codemirror_mode": {
    "name": "ipython",
    "version": 3
   },
   "file_extension": ".py",
   "mimetype": "text/x-python",
   "name": "python",
   "nbconvert_exporter": "python",
   "pygments_lexer": "ipython3",
   "version": "3.11.2"
  }
 },
 "nbformat": 4,
 "nbformat_minor": 5
}
